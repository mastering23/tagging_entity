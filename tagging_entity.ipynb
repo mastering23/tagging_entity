{
 "cells": [
  {
   "cell_type": "markdown",
   "id": "fa26bedd-c747-4053-b766-1056cb851ee7",
   "metadata": {},
   "source": [
    "# Part of Speech Tagging and Named  Entity Recognition"
   ]
  },
  {
   "cell_type": "code",
   "execution_count": null,
   "id": "38bf1c03-a114-4e7c-8cac-6795ea28d49a",
   "metadata": {},
   "outputs": [],
   "source": []
  }
 ],
 "metadata": {
  "kernelspec": {
   "display_name": "Python [conda env:base] *",
   "language": "python",
   "name": "conda-base-py"
  },
  "language_info": {
   "codemirror_mode": {
    "name": "ipython",
    "version": 3
   },
   "file_extension": ".py",
   "mimetype": "text/x-python",
   "name": "python",
   "nbconvert_exporter": "python",
   "pygments_lexer": "ipython3",
   "version": "3.12.3"
  }
 },
 "nbformat": 4,
 "nbformat_minor": 5
}

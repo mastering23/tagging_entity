{
 "cells": [
  {
   "cell_type": "markdown",
   "id": "f2ec6c5d-d23b-4af9-a497-e8ab41c144a8",
   "metadata": {},
   "source": [
    "# NER(NAMED-ENTITY RECOGNITION) with Spacy\n",
    "    NER seeks to locate and classify named  entity mentions in unstructured text into pre-define categories such as the person names,\n",
    "    organizations, locations, medical codes, time expressions, quantities, monetary values , percentages, etc."
   ]
  },
  {
   "cell_type": "code",
   "execution_count": 5,
   "id": "b08df990-5357-45fa-91ca-1ecc49564c40",
   "metadata": {},
   "outputs": [],
   "source": [
    "import spacy"
   ]
  },
  {
   "cell_type": "code",
   "execution_count": 7,
   "id": "e2bf8c66-0391-49c0-9913-e5b73499f826",
   "metadata": {},
   "outputs": [],
   "source": [
    "nlp = spacy.load('en_core_web_sm')"
   ]
  },
  {
   "cell_type": "code",
   "execution_count": 13,
   "id": "0afb4b55-9907-4919-b647-01b359d53638",
   "metadata": {},
   "outputs": [],
   "source": [
    "def show_ents(doc):\n",
    "    if doc.ents:\n",
    "        for ent in doc.ents:\n",
    "            print(ent.text + ' - ' + ent.label_ + ' - ' + str(spacy.explain(ent.label_)))\n",
    "    else:\n",
    "        print('No entities found')\n"
   ]
  },
  {
   "cell_type": "code",
   "execution_count": 15,
   "id": "80acc219-ac73-486b-876f-0bfea5ca5f8b",
   "metadata": {},
   "outputs": [],
   "source": [
    "doc = nlp(u'Hi how are you?')"
   ]
  },
  {
   "cell_type": "code",
   "execution_count": 17,
   "id": "abeb1887-c499-4652-8aeb-0408d514b542",
   "metadata": {},
   "outputs": [
    {
     "name": "stdout",
     "output_type": "stream",
     "text": [
      "No entities found\n"
     ]
    }
   ],
   "source": [
    "show_ents(doc)"
   ]
  },
  {
   "cell_type": "code",
   "execution_count": 19,
   "id": "92fa697b-3073-41c7-b9d3-e796b3b6056a",
   "metadata": {},
   "outputs": [],
   "source": [
    "doc = nlp(u'May i go to Dominican Republic , Santiago city next May to see  the Monument')"
   ]
  },
  {
   "cell_type": "code",
   "execution_count": 21,
   "id": "fc34656d-96a5-4c87-b49e-712b0aeed36c",
   "metadata": {},
   "outputs": [
    {
     "name": "stdout",
     "output_type": "stream",
     "text": [
      "Dominican Republic - GPE - Countries, cities, states\n",
      "Santiago - GPE - Countries, cities, states\n",
      "next May - DATE - Absolute or relative dates or periods\n"
     ]
    }
   ],
   "source": [
    "show_ents(doc)"
   ]
  },
  {
   "cell_type": "code",
   "execution_count": 23,
   "id": "50c8b0ec-7078-4304-bc0d-8864c1b1ed69",
   "metadata": {},
   "outputs": [],
   "source": [
    "doc = nlp(u\"Can I please have 1000 dollars of Microsoft stock?\")"
   ]
  },
  {
   "cell_type": "code",
   "execution_count": 25,
   "id": "f5cd2a1e-ffa2-420f-a1a0-744c711305d2",
   "metadata": {},
   "outputs": [
    {
     "name": "stdout",
     "output_type": "stream",
     "text": [
      "1000 dollars - MONEY - Monetary values, including unit\n",
      "Microsoft - ORG - Companies, agencies, institutions, etc.\n"
     ]
    }
   ],
   "source": [
    "show_ents(doc)"
   ]
  },
  {
   "cell_type": "code",
   "execution_count": 27,
   "id": "f5a6da9a-614b-45ed-bdc4-b31cca99a926",
   "metadata": {},
   "outputs": [],
   "source": [
    "doc = nlp(u\"Tesla to build a U.K. factory for $6 million\")"
   ]
  },
  {
   "cell_type": "code",
   "execution_count": 29,
   "id": "7f3aea72-7435-43a2-8ee5-b823fcc466ed",
   "metadata": {},
   "outputs": [
    {
     "name": "stdout",
     "output_type": "stream",
     "text": [
      "U.K. - GPE - Countries, cities, states\n",
      "$6 million - MONEY - Monetary values, including unit\n"
     ]
    }
   ],
   "source": [
    "show_ents(doc)"
   ]
  },
  {
   "cell_type": "markdown",
   "id": "15ff33d9-089f-4099-8460-a77e08342a16",
   "metadata": {},
   "source": [
    "Notice it didn't recognize Tesla as company or organization "
   ]
  },
  {
   "cell_type": "code",
   "execution_count": 33,
   "id": "8ca6c080-ce33-41cb-8dbf-3fd48860b232",
   "metadata": {},
   "outputs": [],
   "source": [
    "from spacy.tokens import Span"
   ]
  },
  {
   "cell_type": "code",
   "execution_count": 35,
   "id": "195ede65-9615-4e3e-bf83-b59d1ddd7902",
   "metadata": {},
   "outputs": [],
   "source": [
    "ORG = doc.vocab.strings[u\"ORG\"]"
   ]
  },
  {
   "cell_type": "code",
   "execution_count": 37,
   "id": "8f31acc6-054f-41d5-b5c5-c1939a6bbd48",
   "metadata": {},
   "outputs": [
    {
     "data": {
      "text/plain": [
       "383"
      ]
     },
     "execution_count": 37,
     "metadata": {},
     "output_type": "execute_result"
    }
   ],
   "source": [
    "ORG"
   ]
  },
  {
   "cell_type": "code",
   "execution_count": 43,
   "id": "5d9a0ef2-f487-4580-9cae-2840cafe1e95",
   "metadata": {},
   "outputs": [],
   "source": [
    "# Span has 4 arguments: \n",
    "# doc = name of the document object\n",
    "# zero is the start index position of the span \n",
    "# one  is the stop index position of the span, exclusive \n",
    "#label is the label assigned to our entity\n",
    "new_ent = Span(doc,0,1,label=ORG)"
   ]
  },
  {
   "cell_type": "code",
   "execution_count": 41,
   "id": "97c30a34-46b7-4d07-92cd-02722112e0c2",
   "metadata": {},
   "outputs": [],
   "source": [
    "doc.ents = list(doc.ents) + [new_ent]"
   ]
  },
  {
   "cell_type": "code",
   "execution_count": 45,
   "id": "f26182b4-f232-4987-8520-0f48cbad3df2",
   "metadata": {},
   "outputs": [
    {
     "name": "stdout",
     "output_type": "stream",
     "text": [
      "Tesla - ORG - Companies, agencies, institutions, etc.\n",
      "U.K. - GPE - Countries, cities, states\n",
      "$6 million - MONEY - Monetary values, including unit\n"
     ]
    }
   ],
   "source": [
    "show_ents(doc)"
   ]
  },
  {
   "cell_type": "code",
   "execution_count": null,
   "id": "b2c6df3e-f406-4a96-984f-f8f918899c73",
   "metadata": {},
   "outputs": [],
   "source": []
  }
 ],
 "metadata": {
  "kernelspec": {
   "display_name": "Python [conda env:base] *",
   "language": "python",
   "name": "conda-base-py"
  },
  "language_info": {
   "codemirror_mode": {
    "name": "ipython",
    "version": 3
   },
   "file_extension": ".py",
   "mimetype": "text/x-python",
   "name": "python",
   "nbconvert_exporter": "python",
   "pygments_lexer": "ipython3",
   "version": "3.12.3"
  }
 },
 "nbformat": 4,
 "nbformat_minor": 5
}

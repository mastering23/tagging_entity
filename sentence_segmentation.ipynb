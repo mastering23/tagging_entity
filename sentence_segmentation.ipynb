{
 "cells": [
  {
   "cell_type": "markdown",
   "id": "3fc25dc0-ea0f-40c1-8208-9e00314c2cd7",
   "metadata": {},
   "source": [
    "# Sentence Segmentation"
   ]
  },
  {
   "cell_type": "code",
   "execution_count": 234,
   "id": "c837c949-d252-4f10-bc97-74252a2201a6",
   "metadata": {},
   "outputs": [],
   "source": [
    "import spacy\n",
    "nlp = spacy.load('en_core_web_sm')"
   ]
  },
  {
   "cell_type": "code",
   "execution_count": 235,
   "id": "e2b03e36-b300-44ca-92fa-32de98ede870",
   "metadata": {},
   "outputs": [],
   "source": [
    "doc = nlp(u'This is the first sentence. this is another sentence. This is the last sentence.')"
   ]
  },
  {
   "cell_type": "code",
   "execution_count": 237,
   "id": "77e05f6f-ad32-40ed-bf9f-cd7ce7328844",
   "metadata": {},
   "outputs": [
    {
     "name": "stdout",
     "output_type": "stream",
     "text": [
      "This is the first sentence.\n",
      "this is another sentence.\n",
      "This is the last sentence.\n"
     ]
    }
   ],
   "source": [
    "for sent in doc.sents:\n",
    "    print(sent)"
   ]
  },
  {
   "cell_type": "code",
   "execution_count": 240,
   "id": "51439491-1e56-4f99-8f24-cf0020c23c7a",
   "metadata": {},
   "outputs": [
    {
     "data": {
      "text/plain": [
       "This is the first sentence."
      ]
     },
     "execution_count": 240,
     "metadata": {},
     "output_type": "execute_result"
    }
   ],
   "source": [
    "list(doc.sents)[0]"
   ]
  },
  {
   "cell_type": "code",
   "execution_count": 242,
   "id": "a13278de-d838-4699-b362-2ecd828a1206",
   "metadata": {},
   "outputs": [
    {
     "data": {
      "text/plain": [
       "spacy.tokens.span.Span"
      ]
     },
     "execution_count": 242,
     "metadata": {},
     "output_type": "execute_result"
    }
   ],
   "source": [
    "type(list(doc.sents)[0])"
   ]
  },
  {
   "cell_type": "markdown",
   "id": "235dba1e-3e15-477c-972b-dc279dcbc5fc",
   "metadata": {},
   "source": [
    "### Custom rules "
   ]
  },
  {
   "cell_type": "code",
   "execution_count": 245,
   "id": "d35a5af8-1c19-4456-86ed-4d3885e8b4ef",
   "metadata": {},
   "outputs": [],
   "source": [
    "doc = nlp(u'\"Management is doing the right things;leadership is doing the right things.\" -Peter Drucker')"
   ]
  },
  {
   "cell_type": "code",
   "execution_count": 247,
   "id": "5f7cb129-cf87-4531-b77c-e64e333bf7e1",
   "metadata": {},
   "outputs": [
    {
     "data": {
      "text/plain": [
       "'\"Management is doing the right things;leadership is doing the right things.\" -Peter Drucker'"
      ]
     },
     "execution_count": 247,
     "metadata": {},
     "output_type": "execute_result"
    }
   ],
   "source": [
    "doc.text"
   ]
  },
  {
   "cell_type": "code",
   "execution_count": 249,
   "id": "bd8c9b49-3570-4432-adb1-b97fc7e4684e",
   "metadata": {},
   "outputs": [
    {
     "name": "stdout",
     "output_type": "stream",
     "text": [
      "\"Management is doing the right things;leadership is doing the right things.\"\n",
      "\n",
      "\n",
      "-Peter Drucker\n",
      "\n",
      "\n"
     ]
    }
   ],
   "source": [
    "for sent in doc.sents:\n",
    "    print(sent)\n",
    "    print('\\n')"
   ]
  },
  {
   "cell_type": "code",
   "execution_count": 251,
   "id": "21084de5-cc6a-4d4f-b612-4c7ecd7419bf",
   "metadata": {},
   "outputs": [],
   "source": [
    "from spacy.language import Language"
   ]
  },
  {
   "cell_type": "code",
   "execution_count": 253,
   "id": "13575bc7-8197-4143-839b-6f1c17459a8d",
   "metadata": {},
   "outputs": [],
   "source": [
    "# add segmentation rule\n",
    "@Language.component('boundaries')\n",
    "def set_custom_boundaries(doc):\n",
    "    for token in doc[:-1]:  \n",
    "        if token.text == ';':  \n",
    "            doc[token.i + 1].is_sent_start = True  \n",
    "    return doc\n"
   ]
  },
  {
   "cell_type": "code",
   "execution_count": 255,
   "id": "2d3d441c-9cca-46e4-a45d-74aa55b8e5e3",
   "metadata": {},
   "outputs": [
    {
     "data": {
      "text/plain": [
       "['tok2vec',\n",
       " 'tagger',\n",
       " 'segment',\n",
       " 'parser',\n",
       " 'attribute_ruler',\n",
       " 'lemmatizer',\n",
       " 'ner']"
      ]
     },
     "execution_count": 255,
     "metadata": {},
     "output_type": "execute_result"
    }
   ],
   "source": [
    "nlp.add_pipe(\"boundaries\", name='segment', before='parser')\n",
    "\n",
    "nlp.pipe_names"
   ]
  },
  {
   "cell_type": "code",
   "execution_count": 257,
   "id": "94dd9321-9cf0-4c31-85d4-c6b1010da7cc",
   "metadata": {},
   "outputs": [
    {
     "data": {
      "text/plain": [
       "\"Management is doing the right things;leadership is doing the right things.\" -Peter"
      ]
     },
     "execution_count": 257,
     "metadata": {},
     "output_type": "execute_result"
    }
   ],
   "source": [
    "doc[:-1]"
   ]
  },
  {
   "cell_type": "code",
   "execution_count": 259,
   "id": "8fe14921-d5ea-4bb8-80c4-3a7ae8a40469",
   "metadata": {},
   "outputs": [],
   "source": [
    "doc4 = nlp(u'\"Management is doing the right things; leadership is doing the right things.\" -Peter Drucker')"
   ]
  },
  {
   "cell_type": "code",
   "execution_count": 261,
   "id": "00dc05f0-1e6f-40b7-aa21-d5496acdf879",
   "metadata": {},
   "outputs": [
    {
     "name": "stdout",
     "output_type": "stream",
     "text": [
      "\"Management is doing the right things;\n",
      "leadership is doing the right things.\"\n",
      "-Peter Drucker\n"
     ]
    }
   ],
   "source": [
    "for sent in doc4.sents:\n",
    "    print(sent)"
   ]
  },
  {
   "cell_type": "raw",
   "id": "995f2911-6532-4338-a752-ac3852f7efe5",
   "metadata": {},
   "source": []
  },
  {
   "cell_type": "code",
   "execution_count": null,
   "id": "d94341fb-d6cf-4c5c-946e-2b6b9fee0472",
   "metadata": {},
   "outputs": [],
   "source": []
  }
 ],
 "metadata": {
  "kernelspec": {
   "display_name": "Python [conda env:base] *",
   "language": "python",
   "name": "conda-base-py"
  },
  "language_info": {
   "codemirror_mode": {
    "name": "ipython",
    "version": 3
   },
   "file_extension": ".py",
   "mimetype": "text/x-python",
   "name": "python",
   "nbconvert_exporter": "python",
   "pygments_lexer": "ipython3",
   "version": "3.12.3"
  }
 },
 "nbformat": 4,
 "nbformat_minor": 5
}
